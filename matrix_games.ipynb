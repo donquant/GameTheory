{
 "cells": [
  {
   "cell_type": "markdown",
   "metadata": {},
   "source": [
    "# Класс для решения матричных игр\n",
    "\n",
    "Ниже, на языке Python, описан класс `MatrixGame`, который умеет решать матричные игры и кое-что ещё. \n",
    "Большинство приведённых примеров, описанных методов и математические обозначения, используемые здесь, взяты из учебного пособия Васина А.А. и Морозова В.В. \"Введение в теорию игр с приложениями к экономике\". Код написан мною 😎."
   ]
  },
  {
   "cell_type": "code",
   "execution_count": 1,
   "metadata": {},
   "outputs": [],
   "source": [
    "\"\"\"\n",
    "Created on Fri Oct 30 2020\n",
    "\n",
    "@author: Evgeny Laba\n",
    "\"\"\"\n",
    "\n",
    "import numpy as np\n",
    "import pandas as pd\n",
    "\n",
    "class MatrixGame:\n",
    "    def __init__(self, X: np.ndarray):\n",
    "        self.__P = X\n",
    "        \n",
    "    def PayoffMatrix(self):\n",
    "        return self.__P\n",
    "        \n",
    "    def minimax(self):\n",
    "        return np.apply_along_axis(np.max, 0, self.__P).min()\n",
    "    \n",
    "    def maximin(self):\n",
    "        return np.apply_along_axis(np.min, 1, self.__P).max()\n",
    "    \n",
    "    def saddle_points(self):\n",
    "        n = self.__P.shape[0]\n",
    "        m = self.__P.shape[1]\n",
    "        S = np.zeros((n,m), dtype = int)\n",
    "        for i in range(n):\n",
    "            for j in range(m):\n",
    "                if((self.__P[i][j] <= self.__P[i]).all() and (self.__P[i][j] >= self.__P[:,j]).all()):\n",
    "                    S[i][j] = 1\n",
    "        return S\n",
    "    \n",
    "    def Browns_method(self, eps = 1/1000, max_iter = 10000, iter_data = False):\n",
    "        \n",
    "        # initialization\n",
    "        i = np.random.randint(0, self.__P.shape[0], 1)\n",
    "        j = np.random.randint(0, self.__P.shape[1], 1)\n",
    "        k = t1 = t2 = 1\n",
    "        c = self.__P.T[j[-1]]\n",
    "        r = self.__P[i[-1]]\n",
    "        v1 = v1b = c.max()\n",
    "        v2 = v2b = r.min()\n",
    "        if(iter_data == True):\n",
    "            df = np.concatenate((np.array([i[-1] + 1]), \n",
    "                                 c, \n",
    "                                 np.array([v1, j[-1] + 1]), \n",
    "                                 r, \n",
    "                                 np.array([v2, v1b, v2b, v1b - v2b]))) \n",
    "        \n",
    "        # iteration and updates\n",
    "        while((v1b - v2b > eps) and (max_iter > k)):\n",
    "            i = np.append(i, np.random.choice((c == c.max()).nonzero()[0], 1)[0])\n",
    "            j = np.append(j, np.random.choice((r == r.min()).nonzero()[0], 1)[0])\n",
    "            k += 1\n",
    "            c = c + self.__P.T[j[-1]]\n",
    "            r = r + self.__P[i[-1]]\n",
    "            v1 = c.max()/k\n",
    "            v2 = r.min()/k\n",
    "            if(v1 < v1b):\n",
    "                v1b = v1\n",
    "                t1 = k\n",
    "            if(v2 > v2b):\n",
    "                v2b = v2\n",
    "                t2 = k\n",
    "            if(iter_data == True):\n",
    "                df = np.vstack((df, np.concatenate((np.array([i[-1] + 1]), \n",
    "                                c, \n",
    "                                np.array([v1, j[-1] + 1]), \n",
    "                                r, \n",
    "                                np.array([v2, v1b, v2b, v1b - v2b]))) ))\n",
    "                \n",
    "        # dataframe wrap\n",
    "        if(iter_data == True):\n",
    "            l = c.shape[0]\n",
    "            m = r.shape[0]\n",
    "            df = pd.DataFrame(df)\n",
    "            cnames = [\"i\"]\n",
    "            df.rename(columns = {df.columns[n]: cnames[n] for n in range(1)}, inplace = True)\n",
    "            cnames = []\n",
    "            for n in range(l):\n",
    "                cnames.append(f\"c{n + 1}\")\n",
    "            df.rename(columns = {df.columns[n]: cnames[n - 1] for n in range(1, \n",
    "                                                                             1 + l)}, inplace = True)\n",
    "            if(np.issubdtype(self.__P[0,0], int) == True):\n",
    "                for n in cnames:\n",
    "                     df[n] = np.int64(df[n])\n",
    "            cnames = [\"v1\", \"j\"]\n",
    "            df.rename(columns = {df.columns[n]: cnames[n - 1 - l] for n in range(1 + l, \n",
    "                                                                                 3 + l)}, inplace = True)\n",
    "            cnames = []\n",
    "            for n in range(m):\n",
    "                cnames.append(f\"r{n + 1}\")\n",
    "            df.rename(columns = {df.columns[n]: cnames[n - 3 - l] for n in range(3 + l, \n",
    "                                                                                 3 + l + m)}, inplace = True)\n",
    "            if(np.issubdtype(self.__P[0,0], int) == True):\n",
    "                for n in cnames:\n",
    "                     df[n] = np.int64(df[n])\n",
    "            cnames = [\"v2\", \"v1*\", \"v2*\", \"v1*-v2*\"]\n",
    "            df.rename(columns = {df.columns[n]: cnames[n - 3 - l - m] for n in range(3 + l + m,\n",
    "                                                                                     7 + l + m)}, inplace = True)\n",
    "            df[[\"i\", \"j\"]] = df[[\"i\", \"j\"]].apply(np.int64)\n",
    "            df.index = range(1, len(df) + 1)\n",
    "        \n",
    "        # output if method converges \n",
    "        if(v1b - v2b < eps):\n",
    "            p = np.zeros(r.shape[0])\n",
    "            q = np.zeros(c.shape[0])\n",
    "            for n in range(p.shape[0]):\n",
    "                p[n] = ((i[0:t2] == n) * 1).sum()/t2\n",
    "            for n in range(q.shape[0]):\n",
    "                q[n] = ((j[0:t1] == n) * 1).sum()/t1\n",
    "            if(iter_data == True):\n",
    "                return [p, q, (v1b + v2b)/2, df]\n",
    "            else:\n",
    "                return [p, q, (v1b + v2b)/2]\n",
    "        # or doesn't converge\n",
    "        else:\n",
    "            print(f\"Algorithm hasn't converged in {max_iter} iteration steps!\")\n",
    "            if(iter_data == True):\n",
    "                return df\n",
    "            else:\n",
    "                pass\n",
    "            \n",
    "    def solve(self):\n",
    "        # if solution exists in pure strategies\n",
    "        if(self.minimax() == self.maximin()):\n",
    "            print(\"Solution in pure strategies is found!\")\n",
    "            return [np.unique(np.where(self.saddle_points() == 1)[0] + 1),\n",
    "                    np.unique(np.where(self.saddle_points() == 1)[1] + 1),\n",
    "                    self.minimax()]\n",
    "        # else searching mixed strategies solution using Brown's method\n",
    "        else:\n",
    "            G = self.Browns_method()\n",
    "            # if method has converged\n",
    "            if(G == None):\n",
    "                print(\"Therefore no solution is found!\")\n",
    "            # otherwise\n",
    "            else:\n",
    "                print(\"Solution in mixed strategies is found!\")\n",
    "                return G"
   ]
  },
  {
   "cell_type": "markdown",
   "metadata": {},
   "source": [
    "Опишем подробнее, что умеет класс. На вход данный класс всегда принимает платёжную матрицу в виде `numpy.ndarray`. На основе введённой матрицы можно сделать следуюшие вещи:\n",
    "* посчитать минимакс $\\overline{v}$\n",
    "* посчитать максимин $\\underline{v}$\n",
    "* найти все седловые точки\n",
    "* решить матричную игру либо в чистых стратегиях, либо попробовать решить её в смешанных стратегиях при помощи метода Брауна.\n",
    "\n",
    "В качестве первого примера рассмотрим игру со следующей платёжной матрицей\n",
    "\n",
    "\n",
    "$$\n",
    "P = \\begin{bmatrix}\n",
    "     7 & -1 & -4 &  1\\\\\n",
    "     4 &  2 &  3 &  2\\\\\n",
    "     2 &  2 &  5 &  2\\\\\n",
    "     4 & -3 &  7 & -2\n",
    "\\end{bmatrix}\n",
    "$$\n",
    "\n",
    "Здесь игра имеет решение в чистых стратегиях и $ \\underline{v} = \\overline{v} = 2, X^0 = \\{2,3\\}, Y^0 = \\{2,4\\} $. Четыре седловые точки образуют множество $ X^0 \\times Y^0 $. Теперь найдём указанные значения при помощи описанного класса.\n"
   ]
  },
  {
   "cell_type": "code",
   "execution_count": 2,
   "metadata": {},
   "outputs": [],
   "source": [
    "P = np.array([[7,-1,-4, 1],\n",
    "              [4, 2, 3, 2],\n",
    "              [2, 2, 5, 2],\n",
    "              [4,-3, 7,-2]])\n",
    "\n",
    "G = MatrixGame(P)"
   ]
  },
  {
   "cell_type": "code",
   "execution_count": 3,
   "metadata": {},
   "outputs": [
    {
     "data": {
      "text/plain": [
       "2"
      ]
     },
     "execution_count": 3,
     "metadata": {},
     "output_type": "execute_result"
    }
   ],
   "source": [
    "G.minimax()"
   ]
  },
  {
   "cell_type": "code",
   "execution_count": 4,
   "metadata": {},
   "outputs": [
    {
     "data": {
      "text/plain": [
       "2"
      ]
     },
     "execution_count": 4,
     "metadata": {},
     "output_type": "execute_result"
    }
   ],
   "source": [
    "G.maximin()"
   ]
  },
  {
   "cell_type": "code",
   "execution_count": 5,
   "metadata": {},
   "outputs": [
    {
     "data": {
      "text/plain": [
       "array([[0, 0, 0, 0],\n",
       "       [0, 1, 0, 1],\n",
       "       [0, 1, 0, 1],\n",
       "       [0, 0, 0, 0]])"
      ]
     },
     "execution_count": 5,
     "metadata": {},
     "output_type": "execute_result"
    }
   ],
   "source": [
    "G.saddle_points()"
   ]
  },
  {
   "cell_type": "markdown",
   "metadata": {},
   "source": [
    "Ну и, собственно, решим саму игру используя метод `solve`. В случае решения в чистых стратегиях метод возвращает список $ \\{ X^0, Y^0, v \\}$."
   ]
  },
  {
   "cell_type": "code",
   "execution_count": 6,
   "metadata": {},
   "outputs": [
    {
     "name": "stdout",
     "output_type": "stream",
     "text": [
      "Solution in pure strategies is found!\n"
     ]
    },
    {
     "data": {
      "text/plain": [
       "[array([2, 3]), array([2, 4]), 2]"
      ]
     },
     "execution_count": 6,
     "metadata": {},
     "output_type": "execute_result"
    }
   ],
   "source": [
    "G.solve()"
   ]
  },
  {
   "cell_type": "markdown",
   "metadata": {},
   "source": [
    "Тут всё достаточно очевидно. \n",
    "\n",
    "Рассмотрим теперь случай, когда решения в чистых стратегиях нет. Пусть дана следующая платёжная матрица\n",
    "\n",
    "$$\n",
    "P = \\begin{bmatrix}\n",
    "     2 &  1 &  0 \\\\\n",
    "     2 &  0 &  3 \\\\\n",
    "    -1 &  3 & -3 \n",
    "\\end{bmatrix}.\n",
    "$$\n",
    "\n",
    "Здесь $ \\underline{v} = 0 \\ne \\overline{v} = 2 \\implies $ решения в чистых стратегиях нет. При этом существует решение игры в смешанных стратегиях, которое имеет вид\n",
    "\n",
    "$$\n",
    "p^0 = q^0 = (0, 2/3, 1/3), v = 1.\n",
    "$$\n",
    "\n",
    "Класс ищет приблизительное решение с заданной погрешностью при помощи метода Брауна подробно описанного в пособии, которое указано в начале.  В случае нахождения решения метод возвращает список $ \\{ p(t_2), q(t_1), v^* = \\frac{v_1^* +v_2^*}{2} \\}$. Давайте решим игру при помощи `solve`. Так как в методе используется генерация случайнных данных, для повторения результов, не забываем инициализировать `numpy.random.seed` одинаковыми значениями."
   ]
  },
  {
   "cell_type": "code",
   "execution_count": 7,
   "metadata": {},
   "outputs": [
    {
     "name": "stdout",
     "output_type": "stream",
     "text": [
      "Solution in mixed strategies is found!\n"
     ]
    },
    {
     "data": {
      "text/plain": [
       "[array([0.        , 0.66666667, 0.33333333]),\n",
       " array([0.        , 0.66666667, 0.33333333]),\n",
       " 1.0]"
      ]
     },
     "execution_count": 7,
     "metadata": {},
     "output_type": "execute_result"
    }
   ],
   "source": [
    "P = np.array([[ 2, 1, 0], \n",
    "              [ 2, 0, 3],\n",
    "              [-1, 3,-3]])\n",
    "\n",
    "G = MatrixGame(P)\n",
    "\n",
    "np.random.seed(73)\n",
    "\n",
    "G.solve()"
   ]
  },
  {
   "cell_type": "markdown",
   "metadata": {},
   "source": [
    "Вуаля! Получили идеальный результат 😎.\n",
    "\n",
    "При поиске решения в смешанных стратегиях методом `solve`, в методе Брауна всегда используется параметр `eps`, по умолчанию равный 1/1000. Также фиксирован параметр `max_iter`, который контролирует число шагов, за которое алгоритм должен успеть сойтись. Для настраиваемого метода Брауна существует основной метод, называется который, как не удивительно - `Browns_method`. В нём можно менять вышеуказанные параметры. В дополнение там есть дополнительный логический параметр `iter_data`, поменяв значение, которого на `True`, позволяет в списке с решением возвращать таблицу с пошаговой историей итераций. В принципе, это особо не нужно, разве только для наглядности или проверки правильности работы метода. Вот предыдущий пример с таблицей."
   ]
  },
  {
   "cell_type": "code",
   "execution_count": 8,
   "metadata": {},
   "outputs": [
    {
     "data": {
      "text/plain": [
       "[array([0.        , 0.66666667, 0.33333333]),\n",
       " array([0.        , 0.66666667, 0.33333333]),\n",
       " 1.0,\n",
       "     i  c1  c2  c3        v1  j  r1  r2  r3        v2       v1*  v2*   v1*-v2*\n",
       " 1   3   0   3  -3  3.000000  3  -1   3  -3 -3.000000  3.000000 -3.0  6.000000\n",
       " 2   2   0   6  -6  3.000000  3   1   3   0  0.000000  3.000000  0.0  3.000000\n",
       " 3   2   0   9  -9  3.000000  3   3   3   3  1.000000  3.000000  1.0  2.000000\n",
       " 4   2   0  12 -12  3.000000  3   5   3   6  0.750000  3.000000  1.0  2.000000\n",
       " 5   2   1  12  -9  2.400000  2   7   3   9  0.600000  2.400000  1.0  1.400000\n",
       " 6   2   2  12  -6  2.000000  2   9   3  12  0.500000  2.000000  1.0  1.000000\n",
       " 7   2   3  12  -3  1.714286  2  11   3  15  0.428571  1.714286  1.0  0.714286\n",
       " 8   2   4  12   0  1.500000  2  13   3  18  0.375000  1.500000  1.0  0.500000\n",
       " 9   2   5  12   3  1.333333  2  15   3  21  0.333333  1.333333  1.0  0.333333\n",
       " 10  2   6  12   6  1.200000  2  17   3  24  0.300000  1.200000  1.0  0.200000\n",
       " 11  2   7  12   9  1.090909  2  19   3  27  0.272727  1.090909  1.0  0.090909\n",
       " 12  2   8  12  12  1.000000  2  21   3  30  0.250000  1.000000  1.0  0.000000]"
      ]
     },
     "execution_count": 8,
     "metadata": {},
     "output_type": "execute_result"
    }
   ],
   "source": [
    "np.random.seed(73)\n",
    "\n",
    "G.Browns_method(iter_data = True)"
   ]
  },
  {
   "cell_type": "markdown",
   "metadata": {},
   "source": [
    "Видно, что алгоритм сошёлся за 12 шагов. Разница между $ v^*_1 $ и $ v^*_2 $ равна нулю, что удовлетворяет любому сколь угодно малому $\\epsilon$.\n",
    "\n",
    "Однако если мы запустим метод повторно - результат будет несколько хуже."
   ]
  },
  {
   "cell_type": "code",
   "execution_count": 9,
   "metadata": {},
   "outputs": [
    {
     "data": {
      "text/plain": [
       "[array([0.00099108, 0.66600595, 0.33300297]),\n",
       " array([0.07142857, 0.64285714, 0.28571429]),\n",
       " 0.9995044598612488,\n",
       "       i   c1   c2    c3        v1  j    r1    r2    r3        v2  v1*  \\\n",
       " 1     3    2    2    -1  2.000000  1    -1     3    -3 -3.000000  2.0   \n",
       " 2     1    2    5    -4  2.500000  3     1     4    -3 -1.500000  2.0   \n",
       " 3     2    2    8    -7  2.666667  3     3     4     0  0.000000  2.0   \n",
       " 4     2    2   11   -10  2.750000  3     5     4     3  0.750000  2.0   \n",
       " 5     2    2   14   -13  2.800000  3     7     4     6  0.800000  2.0   \n",
       " ...  ..  ...  ...   ...       ... ..   ...   ...   ...       ...  ...   \n",
       " 1005  3  685  965  1085  1.079602  2  1014   997  1020  0.992040  1.0   \n",
       " 1006  3  686  965  1088  1.081511  2  1013  1000  1017  0.994036  1.0   \n",
       " 1007  3  687  965  1091  1.083416  2  1012  1003  1014  0.996028  1.0   \n",
       " 1008  3  688  965  1094  1.085317  2  1011  1006  1011  0.998016  1.0   \n",
       " 1009  3  689  965  1097  1.087215  2  1010  1009  1008  0.999009  1.0   \n",
       " \n",
       "            v2*   v1*-v2*  \n",
       " 1    -3.000000  5.000000  \n",
       " 2    -1.500000  3.500000  \n",
       " 3     0.000000  2.000000  \n",
       " 4     0.750000  1.250000  \n",
       " 5     0.800000  1.200000  \n",
       " ...        ...       ...  \n",
       " 1005  0.998861  0.001139  \n",
       " 1006  0.998861  0.001139  \n",
       " 1007  0.998861  0.001139  \n",
       " 1008  0.998861  0.001139  \n",
       " 1009  0.999009  0.000991  \n",
       " \n",
       " [1009 rows x 13 columns]]"
      ]
     },
     "execution_count": 9,
     "metadata": {},
     "output_type": "execute_result"
    }
   ],
   "source": [
    "G.Browns_method(iter_data = True)"
   ]
  },
  {
   "cell_type": "markdown",
   "metadata": {},
   "source": [
    "В этот раз потребовалось более тысячи итераций. И полученные значения уже не такие 'красивые', хотя и удовлетворяют заданным требованиям. \n",
    "\n",
    "В заключение запустим метод ещё несколько раз на матрице из первого примера. Напомню, что эта игра имеет решение в чистых стратегиях."
   ]
  },
  {
   "cell_type": "code",
   "execution_count": 10,
   "metadata": {},
   "outputs": [
    {
     "data": {
      "text/plain": [
       "[array([0., 1., 0., 0.]),\n",
       " array([0.00000000e+00, 9.99333333e-01, 3.33333333e-04, 3.33333333e-04]),\n",
       " 2.0004999999999997,\n",
       "       i    c1    c2    c3    c4        v1  j    r1    r2     r3    r4  \\\n",
       " 1     2    -4     3     5     7  7.000000  3     4     2      3     2   \n",
       " 2     4    -3     5     7     5  3.500000  4     8    -1     10     0   \n",
       " 3     3    -4     7     9     2  3.000000  2    10     1     15     2   \n",
       " 4     3    -5     9    11    -1  2.750000  2    12     3     20     4   \n",
       " 5     3    -6    11    13    -4  2.600000  2    14     5     25     6   \n",
       " ...  ..   ...   ...   ...   ...       ... ..   ...   ...    ...   ...   \n",
       " 2996  3 -2997  5993  5995 -8977  2.001001  2  5996  5987  14980  5988   \n",
       " 2997  3 -2998  5995  5997 -8980  2.001001  2  5998  5989  14985  5990   \n",
       " 2998  3 -2999  5997  5999 -8983  2.001001  2  6000  5991  14990  5992   \n",
       " 2999  3 -3000  5999  6001 -8986  2.001000  2  6002  5993  14995  5994   \n",
       " 3000  3 -3001  6001  6003 -8989  2.001000  2  6004  5995  15000  5996   \n",
       " \n",
       "             v2       v1*  v2*   v1*-v2*  \n",
       " 1     2.000000  7.000000  2.0  5.000000  \n",
       " 2    -0.500000  3.500000  2.0  1.500000  \n",
       " 3     0.333333  3.000000  2.0  1.000000  \n",
       " 4     0.750000  2.750000  2.0  0.750000  \n",
       " 5     1.000000  2.600000  2.0  0.600000  \n",
       " ...        ...       ...  ...       ...  \n",
       " 2996  1.998331  2.001001  2.0  0.001001  \n",
       " 2997  1.998332  2.001001  2.0  0.001001  \n",
       " 2998  1.998332  2.001001  2.0  0.001001  \n",
       " 2999  1.998333  2.001000  2.0  0.001000  \n",
       " 3000  1.998333  2.001000  2.0  0.001000  \n",
       " \n",
       " [3000 rows x 15 columns]]"
      ]
     },
     "execution_count": 10,
     "metadata": {},
     "output_type": "execute_result"
    }
   ],
   "source": [
    "P = np.array([[7,-1,-4, 1],\n",
    "              [4, 2, 3, 2],\n",
    "              [2, 2, 5, 2],\n",
    "              [4,-3, 7,-2]])\n",
    "\n",
    "G = MatrixGame(P)\n",
    "\n",
    "G.Browns_method(iter_data = True)"
   ]
  },
  {
   "cell_type": "code",
   "execution_count": 11,
   "metadata": {},
   "outputs": [
    {
     "data": {
      "text/plain": [
       "[array([0., 0., 1., 0.]),\n",
       " array([3.33333333e-04, 9.99333333e-01, 3.33333333e-04, 0.00000000e+00]),\n",
       " 2.0004999999999997,\n",
       "       i    c1    c2    c3    c4        v1  j    r1    r2     r3    r4  \\\n",
       " 1     3    -4     3     5     7  7.000000  3     2     2      5     2   \n",
       " 2     4     3     7     7    11  5.500000  1     6    -1     12     0   \n",
       " 3     4     2     9     9     8  3.000000  2    10    -4     19    -2   \n",
       " 4     2     1    11    11     5  2.750000  2    14    -2     22     0   \n",
       " 5     3     0    13    13     2  2.600000  2    16     0     27     2   \n",
       " ...  ..   ...   ...   ...   ...       ... ..   ...   ...    ...   ...   \n",
       " 2996  2 -2991  5995  5995 -8971  2.001001  2  8994  5982  11986  5984   \n",
       " 2997  3 -2992  5997  5997 -8974  2.001001  2  8996  5984  11991  5986   \n",
       " 2998  2 -2993  5999  5999 -8977  2.001001  2  9000  5986  11994  5988   \n",
       " 2999  2 -2994  6001  6001 -8980  2.001000  2  9004  5988  11997  5990   \n",
       " 3000  3 -2995  6003  6003 -8983  2.001000  2  9006  5990  12002  5992   \n",
       " \n",
       "             v2       v1*  v2*   v1*-v2*  \n",
       " 1     2.000000  7.000000  2.0  5.000000  \n",
       " 2    -0.500000  5.500000  2.0  3.500000  \n",
       " 3    -1.333333  3.000000  2.0  1.000000  \n",
       " 4    -0.500000  2.750000  2.0  0.750000  \n",
       " 5     0.000000  2.600000  2.0  0.600000  \n",
       " ...        ...       ...  ...       ...  \n",
       " 2996  1.996662  2.001001  2.0  0.001001  \n",
       " 2997  1.996663  2.001001  2.0  0.001001  \n",
       " 2998  1.996664  2.001001  2.0  0.001001  \n",
       " 2999  1.996666  2.001000  2.0  0.001000  \n",
       " 3000  1.996667  2.001000  2.0  0.001000  \n",
       " \n",
       " [3000 rows x 15 columns]]"
      ]
     },
     "execution_count": 11,
     "metadata": {},
     "output_type": "execute_result"
    }
   ],
   "source": [
    "G.Browns_method(iter_data = True)"
   ]
  },
  {
   "cell_type": "code",
   "execution_count": 12,
   "metadata": {},
   "outputs": [
    {
     "name": "stdout",
     "output_type": "stream",
     "text": [
      "Algorithm hasn't converged in 10000 iteration steps!\n"
     ]
    },
    {
     "data": {
      "text/html": [
       "<div>\n",
       "<style scoped>\n",
       "    .dataframe tbody tr th:only-of-type {\n",
       "        vertical-align: middle;\n",
       "    }\n",
       "\n",
       "    .dataframe tbody tr th {\n",
       "        vertical-align: top;\n",
       "    }\n",
       "\n",
       "    .dataframe thead th {\n",
       "        text-align: right;\n",
       "    }\n",
       "</style>\n",
       "<table border=\"1\" class=\"dataframe\">\n",
       "  <thead>\n",
       "    <tr style=\"text-align: right;\">\n",
       "      <th></th>\n",
       "      <th>i</th>\n",
       "      <th>c1</th>\n",
       "      <th>c2</th>\n",
       "      <th>c3</th>\n",
       "      <th>c4</th>\n",
       "      <th>v1</th>\n",
       "      <th>j</th>\n",
       "      <th>r1</th>\n",
       "      <th>r2</th>\n",
       "      <th>r3</th>\n",
       "      <th>r4</th>\n",
       "      <th>v2</th>\n",
       "      <th>v1*</th>\n",
       "      <th>v2*</th>\n",
       "      <th>v1*-v2*</th>\n",
       "    </tr>\n",
       "  </thead>\n",
       "  <tbody>\n",
       "    <tr>\n",
       "      <th>1</th>\n",
       "      <td>1</td>\n",
       "      <td>7</td>\n",
       "      <td>4</td>\n",
       "      <td>2</td>\n",
       "      <td>4</td>\n",
       "      <td>7.0000</td>\n",
       "      <td>1</td>\n",
       "      <td>7</td>\n",
       "      <td>-1</td>\n",
       "      <td>-4</td>\n",
       "      <td>1</td>\n",
       "      <td>-4.000000</td>\n",
       "      <td>7.0000</td>\n",
       "      <td>-4.000000</td>\n",
       "      <td>11.000000</td>\n",
       "    </tr>\n",
       "    <tr>\n",
       "      <th>2</th>\n",
       "      <td>1</td>\n",
       "      <td>3</td>\n",
       "      <td>7</td>\n",
       "      <td>7</td>\n",
       "      <td>11</td>\n",
       "      <td>5.5000</td>\n",
       "      <td>3</td>\n",
       "      <td>14</td>\n",
       "      <td>-2</td>\n",
       "      <td>-8</td>\n",
       "      <td>2</td>\n",
       "      <td>-4.000000</td>\n",
       "      <td>5.5000</td>\n",
       "      <td>-4.000000</td>\n",
       "      <td>9.500000</td>\n",
       "    </tr>\n",
       "    <tr>\n",
       "      <th>3</th>\n",
       "      <td>4</td>\n",
       "      <td>-1</td>\n",
       "      <td>10</td>\n",
       "      <td>12</td>\n",
       "      <td>18</td>\n",
       "      <td>6.0000</td>\n",
       "      <td>3</td>\n",
       "      <td>18</td>\n",
       "      <td>-5</td>\n",
       "      <td>-1</td>\n",
       "      <td>0</td>\n",
       "      <td>-1.666667</td>\n",
       "      <td>5.5000</td>\n",
       "      <td>-1.666667</td>\n",
       "      <td>7.166667</td>\n",
       "    </tr>\n",
       "    <tr>\n",
       "      <th>4</th>\n",
       "      <td>4</td>\n",
       "      <td>-2</td>\n",
       "      <td>12</td>\n",
       "      <td>14</td>\n",
       "      <td>15</td>\n",
       "      <td>3.7500</td>\n",
       "      <td>2</td>\n",
       "      <td>22</td>\n",
       "      <td>-8</td>\n",
       "      <td>6</td>\n",
       "      <td>-2</td>\n",
       "      <td>-2.000000</td>\n",
       "      <td>3.7500</td>\n",
       "      <td>-1.666667</td>\n",
       "      <td>5.416667</td>\n",
       "    </tr>\n",
       "    <tr>\n",
       "      <th>5</th>\n",
       "      <td>4</td>\n",
       "      <td>-3</td>\n",
       "      <td>14</td>\n",
       "      <td>16</td>\n",
       "      <td>12</td>\n",
       "      <td>3.2000</td>\n",
       "      <td>2</td>\n",
       "      <td>26</td>\n",
       "      <td>-11</td>\n",
       "      <td>13</td>\n",
       "      <td>-4</td>\n",
       "      <td>-2.200000</td>\n",
       "      <td>3.2000</td>\n",
       "      <td>-1.666667</td>\n",
       "      <td>4.866667</td>\n",
       "    </tr>\n",
       "    <tr>\n",
       "      <th>...</th>\n",
       "      <td>...</td>\n",
       "      <td>...</td>\n",
       "      <td>...</td>\n",
       "      <td>...</td>\n",
       "      <td>...</td>\n",
       "      <td>...</td>\n",
       "      <td>...</td>\n",
       "      <td>...</td>\n",
       "      <td>...</td>\n",
       "      <td>...</td>\n",
       "      <td>...</td>\n",
       "      <td>...</td>\n",
       "      <td>...</td>\n",
       "      <td>...</td>\n",
       "      <td>...</td>\n",
       "    </tr>\n",
       "    <tr>\n",
       "      <th>9996</th>\n",
       "      <td>3</td>\n",
       "      <td>-9994</td>\n",
       "      <td>19996</td>\n",
       "      <td>19998</td>\n",
       "      <td>-29961</td>\n",
       "      <td>2.0006</td>\n",
       "      <td>2</td>\n",
       "      <td>20008</td>\n",
       "      <td>19971</td>\n",
       "      <td>49968</td>\n",
       "      <td>19978</td>\n",
       "      <td>1.997899</td>\n",
       "      <td>2.0006</td>\n",
       "      <td>1.997899</td>\n",
       "      <td>0.002701</td>\n",
       "    </tr>\n",
       "    <tr>\n",
       "      <th>9997</th>\n",
       "      <td>3</td>\n",
       "      <td>-9995</td>\n",
       "      <td>19998</td>\n",
       "      <td>20000</td>\n",
       "      <td>-29964</td>\n",
       "      <td>2.0006</td>\n",
       "      <td>2</td>\n",
       "      <td>20010</td>\n",
       "      <td>19973</td>\n",
       "      <td>49973</td>\n",
       "      <td>19980</td>\n",
       "      <td>1.997899</td>\n",
       "      <td>2.0006</td>\n",
       "      <td>1.997899</td>\n",
       "      <td>0.002701</td>\n",
       "    </tr>\n",
       "    <tr>\n",
       "      <th>9998</th>\n",
       "      <td>3</td>\n",
       "      <td>-9996</td>\n",
       "      <td>20000</td>\n",
       "      <td>20002</td>\n",
       "      <td>-29967</td>\n",
       "      <td>2.0006</td>\n",
       "      <td>2</td>\n",
       "      <td>20012</td>\n",
       "      <td>19975</td>\n",
       "      <td>49978</td>\n",
       "      <td>19982</td>\n",
       "      <td>1.997900</td>\n",
       "      <td>2.0006</td>\n",
       "      <td>1.997900</td>\n",
       "      <td>0.002701</td>\n",
       "    </tr>\n",
       "    <tr>\n",
       "      <th>9999</th>\n",
       "      <td>3</td>\n",
       "      <td>-9997</td>\n",
       "      <td>20002</td>\n",
       "      <td>20004</td>\n",
       "      <td>-29970</td>\n",
       "      <td>2.0006</td>\n",
       "      <td>2</td>\n",
       "      <td>20014</td>\n",
       "      <td>19977</td>\n",
       "      <td>49983</td>\n",
       "      <td>19984</td>\n",
       "      <td>1.997900</td>\n",
       "      <td>2.0006</td>\n",
       "      <td>1.997900</td>\n",
       "      <td>0.002700</td>\n",
       "    </tr>\n",
       "    <tr>\n",
       "      <th>10000</th>\n",
       "      <td>3</td>\n",
       "      <td>-9998</td>\n",
       "      <td>20004</td>\n",
       "      <td>20006</td>\n",
       "      <td>-29973</td>\n",
       "      <td>2.0006</td>\n",
       "      <td>2</td>\n",
       "      <td>20016</td>\n",
       "      <td>19979</td>\n",
       "      <td>49988</td>\n",
       "      <td>19986</td>\n",
       "      <td>1.997900</td>\n",
       "      <td>2.0006</td>\n",
       "      <td>1.997900</td>\n",
       "      <td>0.002700</td>\n",
       "    </tr>\n",
       "  </tbody>\n",
       "</table>\n",
       "<p>10000 rows × 15 columns</p>\n",
       "</div>"
      ],
      "text/plain": [
       "       i    c1     c2     c3     c4      v1  j     r1     r2     r3     r4  \\\n",
       "1      1     7      4      2      4  7.0000  1      7     -1     -4      1   \n",
       "2      1     3      7      7     11  5.5000  3     14     -2     -8      2   \n",
       "3      4    -1     10     12     18  6.0000  3     18     -5     -1      0   \n",
       "4      4    -2     12     14     15  3.7500  2     22     -8      6     -2   \n",
       "5      4    -3     14     16     12  3.2000  2     26    -11     13     -4   \n",
       "...   ..   ...    ...    ...    ...     ... ..    ...    ...    ...    ...   \n",
       "9996   3 -9994  19996  19998 -29961  2.0006  2  20008  19971  49968  19978   \n",
       "9997   3 -9995  19998  20000 -29964  2.0006  2  20010  19973  49973  19980   \n",
       "9998   3 -9996  20000  20002 -29967  2.0006  2  20012  19975  49978  19982   \n",
       "9999   3 -9997  20002  20004 -29970  2.0006  2  20014  19977  49983  19984   \n",
       "10000  3 -9998  20004  20006 -29973  2.0006  2  20016  19979  49988  19986   \n",
       "\n",
       "             v2     v1*       v2*    v1*-v2*  \n",
       "1     -4.000000  7.0000 -4.000000  11.000000  \n",
       "2     -4.000000  5.5000 -4.000000   9.500000  \n",
       "3     -1.666667  5.5000 -1.666667   7.166667  \n",
       "4     -2.000000  3.7500 -1.666667   5.416667  \n",
       "5     -2.200000  3.2000 -1.666667   4.866667  \n",
       "...         ...     ...       ...        ...  \n",
       "9996   1.997899  2.0006  1.997899   0.002701  \n",
       "9997   1.997899  2.0006  1.997899   0.002701  \n",
       "9998   1.997900  2.0006  1.997900   0.002701  \n",
       "9999   1.997900  2.0006  1.997900   0.002700  \n",
       "10000  1.997900  2.0006  1.997900   0.002700  \n",
       "\n",
       "[10000 rows x 15 columns]"
      ]
     },
     "execution_count": 12,
     "metadata": {},
     "output_type": "execute_result"
    }
   ],
   "source": [
    "G.Browns_method(iter_data = True)"
   ]
  },
  {
   "cell_type": "markdown",
   "metadata": {},
   "source": [
    "Как видим, в этих случаях метод тоже работает, правда, несколько хуже. В последней попытке метод и вовсе не сошёлся при заданных параметрах...\n",
    "\n",
    "PS. TO DO. Что можно сделать ещё? Например\n",
    "* реализовать доминирование \n",
    "* находить решение игры методом Гаусса.\n",
    "\n",
    "Но это в уже в следующий раз.\n",
    "\n",
    "PSS. Если нашли в тексте или коде какие-либо ошибки - сообщите мне 😉."
   ]
  }
 ],
 "metadata": {
  "kernelspec": {
   "display_name": "Python 3",
   "language": "python",
   "name": "python3"
  },
  "language_info": {
   "codemirror_mode": {
    "name": "ipython",
    "version": 3
   },
   "file_extension": ".py",
   "mimetype": "text/x-python",
   "name": "python",
   "nbconvert_exporter": "python",
   "pygments_lexer": "ipython3",
   "version": "3.8.5"
  }
 },
 "nbformat": 4,
 "nbformat_minor": 4
}
